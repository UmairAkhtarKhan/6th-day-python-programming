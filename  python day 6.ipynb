{
 "cells": [
  {
   "cell_type": "code",
   "execution_count": 3,
   "id": "209bba5c-2823-4c4e-8543-5de11b762c8a",
   "metadata": {},
   "outputs": [
    {
     "name": "stdin",
     "output_type": "stream",
     "text": [
      "Enter the index : 1\n"
     ]
    },
    {
     "name": "stdout",
     "output_type": "stream",
     "text": [
      "20\n",
      "i am always excuted\n"
     ]
    }
   ],
   "source": [
    "# finally keyword code block part of exception handling ,when we handle exception using try except we include finally keyword at the end.\n",
    "# finally block is always executed so it used for doing concluding tasks like closing file resource orclosing database connection or\n",
    "# may be ending the program excution with delightful message finally keyword block always excuted in any situation\n",
    "try:\n",
    "    l=[10,20,30,40,50]\n",
    "    i=int(input('Enter the index :'))\n",
    "    print(l[i])\n",
    "except:\n",
    "    print('some error occur')\n",
    "finally:\n",
    "    print('i am always excuted')\n",
    "    "
   ]
  },
  {
   "cell_type": "code",
   "execution_count": 4,
   "id": "dd1cd8c8-7c23-43ad-bb2b-837c01407cfe",
   "metadata": {},
   "outputs": [
    {
     "name": "stdin",
     "output_type": "stream",
     "text": [
      "Enter the index : 8\n"
     ]
    },
    {
     "name": "stdout",
     "output_type": "stream",
     "text": [
      "[8]\n",
      "i am always excuted\n"
     ]
    }
   ],
   "source": [
    "try:\n",
    "    i=[10,20,30,40,50]\n",
    "    i=int(input('Enter the index :'))\n",
    "    print([i])\n",
    "except:\n",
    "    print('some error occur')\n",
    "# this will same result as give finally but when we wrap this code in function simple print statment code will not run and\n",
    "# that code which is written with finally keyword will run \n",
    "print('i am always excuted')"
   ]
  },
  {
   "cell_type": "code",
   "execution_count": 11,
   "id": "beba8601-51ad-45cf-a391-c3c5528a8d6d",
   "metadata": {},
   "outputs": [
    {
     "name": "stdin",
     "output_type": "stream",
     "text": [
      "Enter the index : 1\n"
     ]
    },
    {
     "name": "stdout",
     "output_type": "stream",
     "text": [
      "i am always excuted\n",
      "20\n"
     ]
    }
   ],
   "source": [
    "def fnc():\n",
    "   try:\n",
    "      l=[10,20,30,40,50]\n",
    "      i=int(input('Enter the index :'))\n",
    "      return l[i]\n",
    "   except:\n",
    "       print('some error occur')\n",
    "   finally:\n",
    "         print('i am always excuted')\n",
    "x=fnc()\n",
    "print(x)\n",
    "    "
   ]
  },
  {
   "cell_type": "code",
   "execution_count": 13,
   "id": "3588f545-1b69-4939-908a-2c53dfeaa055",
   "metadata": {},
   "outputs": [
    {
     "name": "stdin",
     "output_type": "stream",
     "text": [
      "enter the number between 5 to 9 : 9\n"
     ]
    },
    {
     "ename": "ValueError",
     "evalue": "value should be between 5 to 9",
     "output_type": "error",
     "traceback": [
      "\u001b[1;31m---------------------------------------------------------------------------\u001b[0m",
      "\u001b[1;31mValueError\u001b[0m                                Traceback (most recent call last)",
      "Cell \u001b[1;32mIn[13], line 6\u001b[0m\n\u001b[0;32m      4\u001b[0m     \u001b[38;5;28mprint\u001b[39m(\u001b[38;5;124m\"\u001b[39m\u001b[38;5;124mentered the number\u001b[39m\u001b[38;5;124m\"\u001b[39m)\n\u001b[0;32m      5\u001b[0m \u001b[38;5;28;01melse\u001b[39;00m:\n\u001b[1;32m----> 6\u001b[0m     \u001b[38;5;28;01mraise\u001b[39;00m \u001b[38;5;167;01mValueError\u001b[39;00m(\u001b[38;5;124m\"\u001b[39m\u001b[38;5;124mvalue should be between 5 to 9\u001b[39m\u001b[38;5;124m\"\u001b[39m)\n",
      "\u001b[1;31mValueError\u001b[0m: value should be between 5 to 9"
     ]
    }
   ],
   "source": [
    "# we can raise error in python by itself by using raise keyword\n",
    "r=int(input(\"enter the number between 5 to 9 :\"))\n",
    "if r>5 and r<9:\n",
    "    print(\"entered the number\")\n",
    "else:\n",
    "    raise ValueError(\"value should be between 5 to 9\")\n",
    "    \n"
   ]
  },
  {
   "cell_type": "code",
   "execution_count": 18,
   "id": "9b947b6d-9fe0-4214-8f56-02ce9ca82335",
   "metadata": {},
   "outputs": [
    {
     "name": "stdin",
     "output_type": "stream",
     "text": [
      " 1\n",
      " 2\n"
     ]
    },
    {
     "name": "stdout",
     "output_type": "stream",
     "text": [
      "B\n"
     ]
    }
   ],
   "source": [
    "# shorthand if else or if else in 1 line\n",
    "a=int(input())\n",
    "b=int(input())\n",
    "print('A')if a>b else print('=') if a ==b else print('B')"
   ]
  },
  {
   "cell_type": "code",
   "execution_count": 20,
   "id": "bb2d0a4b-7b01-4b46-bf16-8f0299d272d0",
   "metadata": {},
   "outputs": [
    {
     "name": "stdout",
     "output_type": "stream",
     "text": [
      "0 apple\n",
      "1 cheery\n",
      "2 banana\n",
      "3 Guava\n",
      "4 Grapes\n",
      "5 Orange\n"
     ]
    }
   ],
   "source": [
    "# enumirate function is uilt in python function, that allowed you to loop over a sequence(list dict tuple etc) \n",
    "# and get the index and value at the same time\n",
    "fruit=['apple','cheery','banana','Guava','Grapes','Orange']\n",
    "for index,value in enumerate(fruit):\n",
    "    print(index,value)\n",
    "    "
   ]
  },
  {
   "cell_type": "code",
   "execution_count": 21,
   "id": "812940c0-f86d-443d-8d7d-f9969585a87b",
   "metadata": {},
   "outputs": [
    {
     "name": "stdout",
     "output_type": "stream",
     "text": [
      "1 apple\n",
      "2 cheery\n",
      "3 banana\n",
      "4 Guava\n",
      "5 Grapes\n",
      "6 Orange\n"
     ]
    }
   ],
   "source": [
    "# by default enumerate function start the index value from the 0 but you can pass the value of index from where he start \n",
    "fruit=['apple','cheery','banana','Guava','Grapes','Orange']\n",
    "for index,value in enumerate(fruit,start=1):\n",
    "    print(index,value)"
   ]
  },
  {
   "cell_type": "code",
   "execution_count": null,
   "id": "08765d59-4d84-4de2-9cf0-538ec7f5fa15",
   "metadata": {},
   "outputs": [],
   "source": []
  }
 ],
 "metadata": {
  "kernelspec": {
   "display_name": "Python 3 (ipykernel)",
   "language": "python",
   "name": "python3"
  },
  "language_info": {
   "codemirror_mode": {
    "name": "ipython",
    "version": 3
   },
   "file_extension": ".py",
   "mimetype": "text/x-python",
   "name": "python",
   "nbconvert_exporter": "python",
   "pygments_lexer": "ipython3",
   "version": "3.11.7"
  }
 },
 "nbformat": 4,
 "nbformat_minor": 5
}
